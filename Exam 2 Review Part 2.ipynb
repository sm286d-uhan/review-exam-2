{
 "cells": [
  {
   "cell_type": "markdown",
   "metadata": {},
   "source": [
    "<h4 class='prehead'>SM286D &middot; Introduction to Applied Mathematics with Python &middot; Spring 2020 &middot; Uhan</h4>\n",
    "\n",
    "<h1 class='lesson_title'>Exam 2 &mdash; Review Problems &mdash; Part II</h1>"
   ]
  },
  {
   "cell_type": "markdown",
   "metadata": {},
   "source": [
    "__Instructions.__\n",
    "There are two parts to these review problems.\n",
    "You should attempt the problems in Part I without a computer.\n",
    "Part II is in this Jupyter Notebook.\n",
    "Feel free to use your class materials and the course website to attempt the problems in this part."
   ]
  },
  {
   "cell_type": "markdown",
   "metadata": {},
   "source": [
    "## Problem 6"
   ]
  },
  {
   "cell_type": "markdown",
   "metadata": {},
   "source": [
    "In the same folder as this notebook, there is a file called `numbers.xlsx`. Follow the instructions below:\n",
    "\n",
    "- Make a matrix out of the first 5 rows and columns of **Sheet1**.\n",
    "\n",
    "- Compute the matrices whose entries are the second, third, and fourth powers of the entries of this matrix and print them to three different sheets, named **second**, **third**, and **fourth**, respectively.\n",
    "\n",
    "- Now pull all the $(2,1)$ entries off of these sheets and put them in the first column of a new sheet called **two-ones** (i.e. the $(2,1)$ value from **Sheet1** should go in A1, the $(2,1)$ value from **second** should go in A2, etc.). Then make a conjecture about the $(2,1)$ entries of all powers of this matrix. "
   ]
  },
  {
   "cell_type": "code",
   "execution_count": null,
   "metadata": {},
   "outputs": [],
   "source": []
  },
  {
   "cell_type": "markdown",
   "metadata": {},
   "source": [
    "## Problem 7"
   ]
  },
  {
   "cell_type": "markdown",
   "metadata": {},
   "source": [
    "We are going to play a one player game called the dollar game. The \"board\" is an undirected connected graph. We start the game with an integer \"balance\" of \"dollars\" on each vertex so that the total balance of all vertices is more than\n",
    "\n",
    "$$\n",
    "\\text{numbers of edges} - \\text{number of vertices} + 1.\n",
    "$$\n",
    "\n",
    "There are two kinds of \"moves\" you can perform. You can pick a vertex and either (a) take 1 dollar from each neighboring vertex, giving the money to your chosen vertex, or (b) you can give 1 dollar to each neighboring vertex, taking the money from your chosen vertex. You win the game when you have made it so that each vertex has a non-negative balance. \n",
    "\n",
    "The following code draws a graph with a starting balance for each node. The node names are in red boxes next to the nodes."
   ]
  },
  {
   "cell_type": "code",
   "execution_count": null,
   "metadata": {},
   "outputs": [],
   "source": [
    "import numpy as np\n",
    "import networkx as nx\n",
    "import matplotlib.pyplot as plt\n",
    "\n",
    "# Set up the adjacency matrix for the graph\n",
    "A = np.zeros([5, 5])\n",
    "A[0, [1, 4]] = 1\n",
    "A[1, [0, 2, 3]] = 1\n",
    "A[2, [1, 3]] = 1\n",
    "A[3, [1, 2, 4]] = 1\n",
    "A[4, [0, 3]] = 1\n",
    "\n",
    "# Create the graph associated with the adjacency matrix\n",
    "G = nx.Graph(A)\n",
    "\n",
    "# Create dictionary of vertex balances\n",
    "balance = {}\n",
    "balance[0] = 3\n",
    "balance[1] = -2\n",
    "balance[2] = 3\n",
    "balance[3] = -2\n",
    "balance[4] = 0\n",
    "\n",
    "# Draw the graph, using NetworkX's circular layout\n",
    "# Let the node labels be the balances\n",
    "pos = nx.circular_layout(G)\n",
    "nx.draw_networkx(G, pos, labels=balance, with_labels=True, node_color='w', font_size=18)\n",
    "\n",
    "# Grab the positions from NetworkX's circular layout\n",
    "# Draw node name next to each node in a red box\n",
    "x0, y0 = pos[0]\n",
    "x1, y1 = pos[1]\n",
    "x2, y2 = pos[2]\n",
    "x3, y3 = pos[3]\n",
    "x4, y4 = pos[4]\n",
    "plt.text(x0 + 0.1, y0, s='0', bbox=dict(facecolor='red', alpha=0.5), horizontalalignment='center')\n",
    "plt.text(x1 + 0.2, y1, s='1', bbox=dict(facecolor='red', alpha=0.5), horizontalalignment='center')\n",
    "plt.text(x2, y2 + 0.2, s='2', bbox=dict(facecolor='red', alpha=0.5), horizontalalignment='center')\n",
    "plt.text(x3, y3 - 0.2, s='3', bbox=dict(facecolor='red', alpha=0.5), horizontalalignment='center')\n",
    "plt.text(x4, y4 + 0.2, s='4', bbox=dict(facecolor='red', alpha=0.5), horizontalalignment='center')"
   ]
  },
  {
   "cell_type": "markdown",
   "metadata": {},
   "source": [
    "Your problem is to write a function that will\n",
    "\n",
    "1. Ask the user to input a node.\n",
    "2. Ask the user if they want to \"give\" or \"take\" from that node.\n",
    "3. For the user's input node, either (a) give a dollar to each of the node's neighbors or (b) take a dollar from each of the node's neighbors, by reassigning the balance to each node appropriately. \n",
    "4. Draw the new balances on the same graph."
   ]
  },
  {
   "cell_type": "code",
   "execution_count": null,
   "metadata": {},
   "outputs": [],
   "source": [
    "def dollar():\n",
    "    # Finish writing your function here"
   ]
  },
  {
   "cell_type": "markdown",
   "metadata": {},
   "source": [
    "Now use your function to experiment a bit and find a sequence of moves that will result in a non-negative balance on each node."
   ]
  },
  {
   "cell_type": "code",
   "execution_count": null,
   "metadata": {},
   "outputs": [],
   "source": []
  },
  {
   "cell_type": "markdown",
   "metadata": {},
   "source": [
    "## Problem 8"
   ]
  },
  {
   "cell_type": "markdown",
   "metadata": {},
   "source": [
    "Let $G$ be the same graph from Problem 7 above. The goal of this exercise is to compute the number of [spanning trees](https://en.wikipedia.org/wiki/Spanning_tree) using [Kirchoff's matrix tree theorem](https://en.wikipedia.org/wiki/Kirchhoff%27s_theorem). \n",
    "\n",
    "Here's the idea: \n",
    "\n",
    "\\begin{equation*}\n",
    "(\\text{number of nodes}) \\times (\\text{number of spanning trees}) = \\text{product of all the positive eigenvalues of the Laplacian}.\n",
    "\\end{equation*}\n",
    "\n",
    "The Laplacian $L$ is given by\n",
    "\n",
    "\\begin{equation*}\n",
    "L=D-A, \n",
    "\\end{equation*}\n",
    "\n",
    "where $D$ is a diagonal matrix with $d_{ii}$ equal to the degree of node $i$ and $A$ is the graph's adjacency matrix. \n",
    "\n",
    "Use the `linalg` subpackage of the `numpy` package to find the eigenvalues of $L$. Then compute the product of the positive eigenvalues. Finally, compute the number of spanning trees of $G$.\n",
    "\n",
    "Note a few amazing facts: the eigenvalues are all real and their product is an integer.\n",
    "\n",
    "_Hint._ When checking if the eigenvalues are positive, check if they are greater than some small, positive number, like `1e-6`. This is because the eigenvalues are floating point numbers, and you don't want to multiply some value like `8e-16` that is essentially zero."
   ]
  },
  {
   "cell_type": "code",
   "execution_count": null,
   "metadata": {},
   "outputs": [],
   "source": []
  },
  {
   "cell_type": "markdown",
   "metadata": {},
   "source": [
    "## Problem 9"
   ]
  },
  {
   "cell_type": "markdown",
   "metadata": {},
   "source": [
    "In this problem, you are to complete steganography on a simple image and see how it shows up.\n",
    "\n",
    "__(a)__ Make the maritime flag for Xray in a 654 by 1024 size image.\n",
    "\n",
    "<img src=\"x_flag.png\" alt=\"Drawing\" style=\"width: 200px;\"/>\n",
    "<center> Xray maritime flag </center>\n",
    "\n",
    "__(b)__ In the same folder as this notebook, there is an image file called `forbidden.jpg` containing a picture of Mt. Forbidden. Import it with `imread`. Then hide your Xray maritime flag in the Mt. Forbidden picture by shifting Mt. Forbidden right 4 bits and then left 4 bits and shifting your Xray right 4 bits.\n",
    "\n",
    "__(c)__ Now recover your Xray from the steganography picture you made in part (b)."
   ]
  },
  {
   "cell_type": "code",
   "execution_count": null,
   "metadata": {},
   "outputs": [],
   "source": [
    "# Part a\n"
   ]
  },
  {
   "cell_type": "code",
   "execution_count": null,
   "metadata": {},
   "outputs": [],
   "source": [
    "# Part b\n"
   ]
  },
  {
   "cell_type": "code",
   "execution_count": null,
   "metadata": {},
   "outputs": [],
   "source": [
    "# Part c\n"
   ]
  }
 ],
 "metadata": {
  "kernelspec": {
   "display_name": "Python 3",
   "language": "python",
   "name": "python3"
  },
  "language_info": {
   "codemirror_mode": {
    "name": "ipython",
    "version": 3
   },
   "file_extension": ".py",
   "mimetype": "text/x-python",
   "name": "python",
   "nbconvert_exporter": "python",
   "pygments_lexer": "ipython3",
   "version": "3.7.6"
  }
 },
 "nbformat": 4,
 "nbformat_minor": 2
}
